{
 "cells": [
  {
   "cell_type": "code",
   "execution_count": null,
   "metadata": {},
   "outputs": [],
   "source": [
    "# using the pyoscar API\n",
    "\n",
    "from pyoscar import OSCARClient\n",
    "\n",
    "client = OSCARClient()\n",
    "\n",
    "# get all Canadian stations\n",
    "stations = client.get_stations(country='CAN')\n",
    "\n",
    "# get all Canadian stations\n",
    "stations = client.get_stations(program='GAW')\n",
    "\n",
    "# get invididual station report\n",
    "stn_leo = client.get_station_report('LEO')\n",
    "\n",
    "\n",
    "# upload WMDR XML\n",
    "\n",
    "## instantiate client to OSCAR DEPL (default)\n",
    "client = OSCARClient(api_token='foo')\n",
    "\n",
    "## ...or to OSCAR production\n",
    "client = OSCARClient(api_token='foo', env='prod')\n",
    "\n",
    "with open('some-wmdr-file.xml') as fh:\n",
    "    data = fh.read()\n",
    "\n",
    "response = client.upload(data)\n",
    "\n"
   ]
  }
 ],
 "metadata": {
  "language_info": {
   "name": "python"
  },
  "orig_nbformat": 4
 },
 "nbformat": 4,
 "nbformat_minor": 2
}
