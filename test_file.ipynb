{
 "cells": [
  {
   "cell_type": "code",
   "execution_count": 15,
   "metadata": {},
   "outputs": [],
   "source": [
    "#import \n",
    "import os\n",
    "import logging\n",
    "import time\n",
    "import csv\n",
    "import html\n",
    "import jinja2\n",
    "import requests\n",
    "from requests.adapters import HTTPAdapter\n",
    "from urllib3.util import Retry\n",
    "import uuid\n",
    "import yaml\n",
    "import requests\n",
    "import io\n",
    "import json\n",
    "import re\n",
    "import dateutil.parser"
   ]
  },
  {
   "cell_type": "code",
   "execution_count": 18,
   "metadata": {},
   "outputs": [
    {
     "name": "stdout",
     "output_type": "stream",
     "text": [
      "2021-09-16\n",
      "2021-09-17\n",
      "2021-09-19\n",
      "2021-09-20\n",
      "2021-12-22\n",
      "2021-01-10\n",
      "2021-11-12\n",
      "2021-01-10\n",
      "2021-05-10\n",
      "2021-08-10\n",
      "2021-10-14\n",
      "2021-10-13\n",
      "2021-10-18\n",
      "2021-10-19\n",
      "2021-10-24\n",
      "2021-10-26\n",
      "2021-10-27\n",
      "2021-01-11\n",
      "2021-03-11\n",
      "2021-10-28\n",
      "2021-03-11\n",
      "2021-10-11\n",
      "2021-10-11\n",
      "2021-11-15\n",
      "2021-11-15\n",
      "2021-11-16\n",
      "2021-11-16\n",
      "2021-11-11\n",
      "2021-12-11\n",
      "2021-11-17\n",
      "2021-11-18\n",
      "2021-11-17\n",
      "2021-11-18\n",
      "2021-11-20\n",
      "2021-11-19\n",
      "2021-11-21\n",
      "2021-11-21\n",
      "2021-11-22\n",
      "2021-11-22\n",
      "2023-11-23\n",
      "2021-12-21\n",
      "2021-11-25\n",
      "2021-11-24\n",
      "2021-11-24\n",
      "2021-11-29\n",
      "2021-11-27\n",
      "2021-11-29\n",
      "2021-11-28\n",
      "2021-11-29\n",
      "2021-03-12\n",
      "2021-03-12\n",
      "2021-05-12\n",
      "2021-05-12\n",
      "2021-06-12\n",
      "2021-06-12\n",
      "2021-09-12\n",
      "2021-10-12\n",
      "2021-09-12\n",
      "2021-10-12\n",
      "2021-07-12\n",
      "2021-12-16\n",
      "2021-12-17\n",
      "2021-12-15\n",
      "2021-12-17\n",
      "2022-12-01\n",
      "2022-01-17\n",
      "2022-01-17\n",
      "2022-01-18\n",
      "2022-01-20\n",
      "2022-01-20\n",
      "2022-01-21\n",
      "2022-01-22\n",
      "2022-01-23\n",
      "2022-01-24\n",
      "2022-01-24\n",
      "2022-01-24\n",
      "2022-01-30\n",
      "2022-01-30\n",
      "2022-01-31\n"
     ]
    }
   ],
   "source": [
    "csv_test = \"/home/sdanioth/Documents/git/oscar-catalogue/KCSAP_AWS.csv\"\n",
    "\n",
    "sanitize = lambda x: html.escape(x) if len(x) > 0 else 'unknown'\n",
    "\n",
    "with open(csv_test) as f:\n",
    "    reader = csv.DictReader( f )\n",
    "    files = []\n",
    "    for row in reader:\n",
    "        var = 'WSI'\n",
    "        d1 = { key: sanitize(row[key]) for key in row.keys() if key != var }\n",
    "        #print(d1)\n",
    "        for ele in row[var].split(','):\n",
    "            csv_test = {var: ele.strip(), 'uuid': uuid.uuid4()}\n",
    "            csv_test.update(d1)\n",
    "            #print(d1['DateEstablished'])\n",
    "\n",
    "            d1['DateEstablished'] = dateutil.parser.parse(d1['DateEstablished'],fuzzy=True).date()\n",
    "            print(d1['DateEstablished'])"
   ]
  },
  {
   "cell_type": "code",
   "execution_count": 32,
   "metadata": {},
   "outputs": [],
   "source": [
    "config = \"/home/sdanioth/Documents/git/oscar-catalogue/config.yaml\"\n",
    "with open(os.path.abspath(config), \"r\") as f:\n",
    "    config = yaml.safe_load(f)\n",
    "    f.close()\n"
   ]
  },
  {
   "cell_type": "code",
   "execution_count": 33,
   "metadata": {},
   "outputs": [
    {
     "name": "stdout",
     "output_type": "stream",
     "text": [
      "ObservedVariableAtmosphere\n"
     ]
    }
   ],
   "source": [
    "for var in config['variablesWMDR']:\n",
    "    print(var)"
   ]
  },
  {
   "cell_type": "code",
   "execution_count": 34,
   "metadata": {},
   "outputs": [
    {
     "name": "stdout",
     "output_type": "stream",
     "text": [
      "ObservedVariableAtmosphere\n"
     ]
    }
   ],
   "source": [
    "label = \"ObservedVariableAtmosphere\"\n",
    "print(label)"
   ]
  },
  {
   "cell_type": "code",
   "execution_count": 127,
   "metadata": {},
   "outputs": [],
   "source": [
    "facility = os.path.expanduser(config['FacilitySource'])\n"
   ]
  },
  {
   "cell_type": "code",
   "execution_count": 128,
   "metadata": {},
   "outputs": [],
   "source": [
    "sanitize = lambda x: html.escape(x) if len(x) > 0 else 'unknown'\n",
    "\n",
    "with open(facility) as f:\n",
    "    reader = csv.DictReader( f )\n",
    "    files = []\n",
    "    for row in reader:\n",
    "        var = 'WIGOSstationIdentifier'\n",
    "        d1 = { key: sanitize(row[key]) for key in row.keys() if key != var }\n",
    "        for ele in row[var].split(','):\n",
    "            facility = {var: ele.strip(), 'uuid': uuid.uuid4()}\n",
    "            facility.update(d1)"
   ]
  },
  {
   "cell_type": "code",
   "execution_count": 129,
   "metadata": {},
   "outputs": [
    {
     "data": {
      "text/plain": [
       "'Test Multiple variables'"
      ]
     },
     "execution_count": 129,
     "metadata": {},
     "output_type": "execute_result"
    }
   ],
   "source": [
    "facility[\"Name\"]"
   ]
  },
  {
   "cell_type": "code",
   "execution_count": 130,
   "metadata": {},
   "outputs": [
    {
     "name": "stdout",
     "output_type": "stream",
     "text": [
      "Air temperature (at specified distance from reference surface), Visibility, Horizontal wind direction at specified distance from reference surface, Horizontal wind speed at specified distance from reference surface, Relative humidity (with respect to water), Atmospheric pressure, Amount of precipitation\n",
      "A\n"
     ]
    }
   ],
   "source": [
    "csv_number = facility[\"ObservedVariableAtmosphere\"]\n",
    "print(csv_number)\n",
    "\n",
    "\n"
   ]
  },
  {
   "cell_type": "code",
   "execution_count": 134,
   "metadata": {},
   "outputs": [
    {
     "name": "stdout",
     "output_type": "stream",
     "text": [
      "['Air temperature (at specified distance from reference surface)', ' Visibility', ' Horizontal wind direction at specified distance from reference surface', ' Horizontal wind speed at specified distance from reference surface', ' Relative humidity (with respect to water)', ' Atmospheric pressure', ' Amount of precipitation']\n",
      " Relative humidity (with respect to water)\n"
     ]
    }
   ],
   "source": [
    "test = csv_number.split(\",\")\n",
    "print(test)\n",
    "print(test[4])"
   ]
  },
  {
   "cell_type": "code",
   "execution_count": 135,
   "metadata": {},
   "outputs": [],
   "source": [
    "variables = facility[\"ObservedVariableAtmosphere\"]\n",
    "variables = variables.split(\",\")"
   ]
  },
  {
   "cell_type": "code",
   "execution_count": 136,
   "metadata": {},
   "outputs": [
    {
     "name": "stdout",
     "output_type": "stream",
     "text": [
      "Air temperature (at specified distance from reference surface)\n",
      " Visibility\n",
      " Horizontal wind direction at specified distance from reference surface\n",
      " Horizontal wind speed at specified distance from reference surface\n",
      " Relative humidity (with respect to water)\n",
      " Atmospheric pressure\n",
      " Amount of precipitation\n"
     ]
    }
   ],
   "source": [
    "for var in variables:\n",
    "    print(var)"
   ]
  },
  {
   "cell_type": "code",
   "execution_count": null,
   "metadata": {},
   "outputs": [],
   "source": []
  },
  {
   "cell_type": "code",
   "execution_count": 2,
   "metadata": {},
   "outputs": [
    {
     "name": "stdout",
     "output_type": "stream",
     "text": [
      "<Response [200]>\n"
     ]
    }
   ],
   "source": [
    "token = '424bdd5a-df56-430b-937a-9e48957cea99'\n",
    "file = '/home/sdanioth/Documents/git/oscar-catalogue/oscar-facility-catalogue/test_survey_2_KEN_234.xml'\n",
    "\n",
    "oscar_api = 'https://oscardepl.wmo.int/surface/rest/api/wmd/upload'\n",
    "\n",
    "\n",
    "with open(file) as r:\n",
    "    xml = r.read()\n",
    "    res = requests.post(url=oscar_api, data=xml, headers={'X-WMO-WMDR-Token': token})\n",
    "    print(res)"
   ]
  },
  {
   "cell_type": "code",
   "execution_count": 3,
   "metadata": {},
   "outputs": [
    {
     "name": "stdout",
     "output_type": "stream",
     "text": [
      "<pyoscar.OSCARClient object at 0x7f8e534f3ac0>\n",
      "{'id': 691498, 'xmlStatus': 'VALID_XML_WITH_ERRORS_OR_WARNINGS', 'logs': 'The list below is organized by section header and shows exceptions/issues – if any – that may have resulted from the processing of the XML (NB: Section headers are always displayed).\\n# Facility with identifier \"0-404-300-TestSurvey2\"\\nREF_6: The selected identification process is using the ID attribute. No value found for the ID attribute of the element \"deployment/Deployment\" with beginPosition = \"undefined\". The \"deployment\" is discarded.\\n'}\n"
     ]
    }
   ],
   "source": [
    "from pyoscar import OSCARClient\n",
    "token = 'bea1a424-eee9-4edc-8467-c5b9497d2a6c'\n",
    "file = '/home/sdanioth/Documents/git/oscar-catalogue/oscar-facility-catalogue/test_survey_2_KEN_234.xml'\n",
    "\n",
    "\n",
    "client = OSCARClient(api_token=token)\n",
    "print(client)\n",
    "\n",
    "with open(file) as fh:\n",
    "    data = fh.read()\n",
    "\n",
    "response = client.upload(data)\n",
    "print(response)"
   ]
  },
  {
   "cell_type": "code",
   "execution_count": 4,
   "metadata": {},
   "outputs": [],
   "source": [
    "class FacilityCatalogue:\n",
    "    \"\"\"\n",
    "    Read flat file, convert to WMDR XML file, upload to OSCAR/Surface.\n",
    "\n",
    "    Read flat file containing facility catalogue entries, \n",
    "    convert to WMDR XML file, upload to OSCAR/Surface.\n",
    "    \"\"\"\n",
    "\n",
    "    @classmethod\n",
    "    def __init__(self, config):\n",
    "        \"\"\"\n",
    "        Constructor\n",
    "\n",
    "        Parameters\n",
    "        ----------\n",
    "        config : str\n",
    "            Full path to configuration file.\n",
    "\n",
    "        Returns\n",
    "        -------\n",
    "        None.\n",
    "\n",
    "        \"\"\"\n",
    "        try:                        \n",
    "            with open(os.path.abspath(config), \"r\") as f:\n",
    "                config = yaml.safe_load(f)\n",
    "                f.close()\n",
    "\n",
    "            # setup logging\n",
    "            for h in logging.root.handlers[:]:\n",
    "                logging.root.removeHandler(h)\n",
    "            logdir = os.path.expanduser(config['logging'])\n",
    "            os.makedirs(logdir, exist_ok=True)\n",
    "            logfile = '%s.log' % time.strftime('%Y%m%d')\n",
    "            self.logfile = os.path.join(logdir, logfile)\n",
    "            self.logger = logging.getLogger(__name__)\n",
    "            logging.basicConfig(level=logging.DEBUG,\n",
    "                                format='%(asctime)s %(name)-12s %(levelname)-8s %(message)s',\n",
    "                                datefmt='%y-%m-%d %H:%M:%S',\n",
    "                                filename=str(self.logfile),\n",
    "                                filemode='a')\n",
    "            \n",
    "            self.source = os.path.expanduser(config['source'])\n",
    "            self.target = os.path.expanduser(config['target'])\n",
    "            self.template = config['template'] \n",
    "            self.header = { 'dtm': time.strftime(\"%Y-%m-%dT%H:%M:%S\"), \n",
    "                    'individualName': config['individualName'],\n",
    "                            'organisationName': config['organisationName'],\n",
    "                            'electronicMailAddress': config['organisationName'] }\n",
    "\n",
    "            self.upload = config['upload']\n",
    "            self.proxies = config['proxies']\n",
    "            self.token = config['token']\n",
    "            \n",
    "        except Exception as err:\n",
    "            self.logger.error('Error setting up FacilityCatalogue', err)\n",
    "\n",
    "\n",
    "\n",
    "    @classmethod\n",
    "    def csv2wmdr(self, verbose=True):\n",
    "        \"\"\"\n",
    "        Read a flat CSV file, cast to WMDR XML file, save as target\n",
    "\n",
    "        Parameters\n",
    "        ----------\n",
    "        verbose : bln, optional\n",
    "            Should log file be written? The default is True.\n",
    "\n",
    "        Returns\n",
    "        -------\n",
    "        filename with full path.\n",
    "\n",
    "        \"\"\"\n",
    "        try:\n",
    "            sanitize = lambda x: html.escape(x) if len(x) > 0 else 'unknown'\n",
    "\n",
    "            # read jinja template\n",
    "            templateLoader = jinja2.FileSystemLoader(searchpath=\"./\")\n",
    "            templateEnv = jinja2.Environment(loader=templateLoader)\n",
    "            template = templateEnv.get_template(self.template)\n",
    "\n",
    "            # read source file and convert to list of dictionaries, one for\n",
    "            # each combination of manufacturer, model, variable\n",
    "            with open(self.source) as f:\n",
    "                reader = csv.DictReader( f )\n",
    "                files = []                \n",
    "                for row in reader:\n",
    "                    var = 'ObservedVariableAtmosphere'\n",
    "                    d1 = { key: sanitize(row[key]) for key in row.keys() if key != var }\n",
    "                    for ele in row[var].split(','):\n",
    "                        facility = {var: ele.strip(), 'uuid': uuid.uuid4()} \n",
    "                        facility.update(d1)\n",
    "                                   \n",
    "                        # generate XML file\n",
    "                        xml = template.render(header=self.header, facility=facility)\n",
    "                        file = os.path.join(self.target, \"%s %s %s.xml\" % (facility['Name'], facility['Territory'], facility['ObservedVariableAtmosphere']))\n",
    "                        file = file.replace(\" \", \"_\")\n",
    "                        files.append(file)                    \n",
    "                        with open(file, 'w') as f:\n",
    "                            f.write(xml)\n",
    "                            f.close()\n",
    "                        if verbose:\n",
    "                            self.logger.info(\"XML file saved to \" + file)\n",
    "                \n",
    "            return(files)\n",
    "\n",
    "        except Exception as err:\n",
    "            self.logger.error(err)\n",
    "            return(err)\n",
    "        \n",
    "        \n",
    "\n",
    "if __name__ == '__main__':\n",
    "    config = os.path.join(os.getcwd(), 'config.yaml')\n",
    "    facility_catalogue = FacilityCatalogue(config)\n",
    "    facility_catalogue.csv2wmdr()\n",
    "    "
   ]
  },
  {
   "cell_type": "code",
   "execution_count": 15,
   "metadata": {},
   "outputs": [],
   "source": [
    "config = os.path.join(os.getcwd(), 'config.yaml')\n",
    "\n",
    "with open(os.path.abspath(config), \"r\") as f:\n",
    "    config = yaml.safe_load(f)\n",
    "    f.close()\n",
    "\n",
    "source = os.path.expanduser(config['source'])\n",
    "target = os.path.expanduser(config['target'])\n",
    "template = config['template'] \n",
    "header = { 'dtm': time.strftime(\"%Y-%m-%dT%H:%M:%S\"),'individualName': config['individualName'],'organisationName': config['organisationName'],'electronicMailAddress': config['organisationName'] }\n",
    "\n",
    "upload = config['upload']\n",
    "proxies = config['proxies']\n",
    "token = config['token']\n"
   ]
  }
 ],
 "metadata": {
  "kernelspec": {
   "display_name": "Python 3",
   "language": "python",
   "name": "python3"
  },
  "language_info": {
   "codemirror_mode": {
    "name": "ipython",
    "version": 3
   },
   "file_extension": ".py",
   "mimetype": "text/x-python",
   "name": "python",
   "nbconvert_exporter": "python",
   "pygments_lexer": "ipython3",
   "version": "3.10.6"
  },
  "orig_nbformat": 4
 },
 "nbformat": 4,
 "nbformat_minor": 2
}
